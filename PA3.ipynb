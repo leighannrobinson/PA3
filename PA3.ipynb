{
 "cells": [
  {
   "cell_type": "markdown",
   "id": "d9ee787b",
   "metadata": {},
   "source": [
    "# Programming Assignment 3\n",
    "## Leighann Robinson\n",
    "### CS150-01 FA 2022\n",
    "#### Version 1"
   ]
  },
  {
   "cell_type": "markdown",
   "id": "b77c7e43",
   "metadata": {},
   "source": [
    "part a"
   ]
  },
  {
   "cell_type": "code",
   "execution_count": 1,
   "id": "be9d1bbf",
   "metadata": {},
   "outputs": [
    {
     "name": "stdout",
     "output_type": "stream",
     "text": [
      "0\n",
      "1\n",
      "2\n",
      "3\n",
      "4\n",
      "5\n",
      "6 *\n",
      "7\n",
      "8\n",
      "9 *\n",
      "10\n",
      "11\n",
      "12 *\n",
      "13\n",
      "14\n",
      "15 *\n",
      "16\n",
      "17\n",
      "18 *\n",
      "19\n",
      "20\n",
      "21 *\n",
      "22\n",
      "23\n",
      "24 *\n",
      "25\n",
      "26\n",
      "27 *\n",
      "28\n",
      "29\n",
      "30 *\n",
      "31\n",
      "32\n",
      "33 *\n",
      "34\n",
      "35\n",
      "36 *\n",
      "37\n",
      "38\n",
      "39 *\n",
      "40\n",
      "41\n",
      "42 *\n",
      "43\n",
      "44\n",
      "45 *\n",
      "46\n",
      "47\n",
      "48 *\n",
      "49\n",
      "50\n",
      "51 *\n",
      "52\n",
      "53\n",
      "54 *\n",
      "55\n",
      "56\n",
      "57 *\n",
      "58\n",
      "59\n",
      "60 *\n",
      "61\n",
      "62\n",
      "63 *\n",
      "64\n",
      "65\n",
      "66 *\n",
      "67\n",
      "68\n",
      "69 *\n",
      "70\n",
      "71\n",
      "72 *\n",
      "73\n",
      "74\n",
      "75 *\n",
      "76\n",
      "77\n",
      "78 *\n",
      "79\n",
      "80\n",
      "81 *\n",
      "82\n",
      "83\n",
      "84 *\n",
      "85\n",
      "86\n",
      "87 *\n",
      "88\n",
      "89\n",
      "90 *\n",
      "91\n",
      "92\n",
      "93 *\n",
      "94\n",
      "95\n",
      "96 *\n",
      "97\n",
      "98\n",
      "99 *\n"
     ]
    }
   ],
   "source": [
    "numbers=list()\n",
    "for number in range(0,100):\n",
    "    if number%3:\n",
    "        print(number)\n",
    "    elif number==3 or number==0:\n",
    "        print(number)\n",
    "    else: \n",
    "        print(str(number)+\" \"+str('*'))"
   ]
  },
  {
   "cell_type": "markdown",
   "id": "c36539d9",
   "metadata": {},
   "source": [
    "part b"
   ]
  },
  {
   "cell_type": "code",
   "execution_count": 2,
   "id": "d57e6223",
   "metadata": {},
   "outputs": [
    {
     "name": "stdout",
     "output_type": "stream",
     "text": [
      "What is the subject's age?: 9\n",
      "Minor\n"
     ]
    }
   ],
   "source": [
    "age=int(input(\"What is the subject's age?: \"))\n",
    "if age>=1 and age<18:\n",
    "    print(\"Minor\")\n",
    "elif age>=18 and age<65:\n",
    "    print(\"Adult\")\n",
    "elif age>=65:\n",
    "    print(\"Senior Citizen\")\n",
    "else: \n",
    "    print(\" \")"
   ]
  },
  {
   "cell_type": "code",
   "execution_count": null,
   "id": "48c041fc",
   "metadata": {},
   "outputs": [],
   "source": [
    "age=int(input(\"What is the subject's age?: \"))\n",
    "if age>=1 and age<18:\n",
    "    print(\"Minor\")\n",
    "elif age>=18 and age<65:\n",
    "    print(\"Adult\")\n",
    "elif age>=65:\n",
    "    print(\"Senior Citizen\")\n",
    "else: \n",
    "    print(\" \")"
   ]
  },
  {
   "cell_type": "code",
   "execution_count": null,
   "id": "c04e5ae1",
   "metadata": {},
   "outputs": [],
   "source": [
    "age=int(input(\"What is the subject's age?: \"))\n",
    "if age>=1 and age<18:\n",
    "    print(\"Minor\")\n",
    "elif age>=18 and age<65:\n",
    "    print(\"Adult\")\n",
    "elif age>=65:\n",
    "    print(\"Senior Citizen\")\n",
    "else: \n",
    "    print(\" \")"
   ]
  },
  {
   "cell_type": "code",
   "execution_count": null,
   "id": "5218fbfa",
   "metadata": {},
   "outputs": [],
   "source": [
    "age=int(input(\"What is the subject's age?: \"))\n",
    "if age>=1 and age<18:\n",
    "    print(\"Minor\")\n",
    "elif age>=18 and age<65:\n",
    "    print(\"Adult\")\n",
    "elif age>=65:\n",
    "    print(\"Senior Citizen\")\n",
    "else: \n",
    "    print(\" \")"
   ]
  },
  {
   "cell_type": "markdown",
   "id": "82c5548c",
   "metadata": {},
   "source": [
    "part c"
   ]
  },
  {
   "cell_type": "code",
   "execution_count": null,
   "id": "24b7c6d6",
   "metadata": {},
   "outputs": [],
   "source": [
    "List=[65,78,34,56,12,9,43,67]\n",
    "List"
   ]
  },
  {
   "cell_type": "code",
   "execution_count": null,
   "id": "d740c36e",
   "metadata": {},
   "outputs": [],
   "source": [
    "for Age in List:\n",
    "    if Age>=1 and Age<18:\n",
    "        print(Age, \": Minor\")\n",
    "    elif Age>=18 and Age<65:\n",
    "        print(Age, \": Adult\")\n",
    "    elif Age>=65:\n",
    "        print(Age, \": Senior Citizen\")\n",
    "    else: \n",
    "        print(\" \")"
   ]
  }
 ],
 "metadata": {
  "kernelspec": {
   "display_name": "Python 3 (ipykernel)",
   "language": "python",
   "name": "python3"
  },
  "language_info": {
   "codemirror_mode": {
    "name": "ipython",
    "version": 3
   },
   "file_extension": ".py",
   "mimetype": "text/x-python",
   "name": "python",
   "nbconvert_exporter": "python",
   "pygments_lexer": "ipython3",
   "version": "3.9.12"
  }
 },
 "nbformat": 4,
 "nbformat_minor": 5
}
